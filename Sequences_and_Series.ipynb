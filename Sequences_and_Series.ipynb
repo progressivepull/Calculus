{
  "metadata": {
    "kernelspec": {
      "name": "python",
      "display_name": "Python (Pyodide)",
      "language": "python"
    },
    "language_info": {
      "codemirror_mode": {
        "name": "python",
        "version": 3
      },
      "file_extension": ".py",
      "mimetype": "text/x-python",
      "name": "python",
      "nbconvert_exporter": "python",
      "pygments_lexer": "ipython3",
      "version": "3.8"
    }
  },
  "nbformat_minor": 5,
  "nbformat": 4,
  "cells": [
    {
      "id": "d4d8d262-5cc3-473b-96bd-8a5aabd5a294",
      "cell_type": "markdown",
      "source": "# Calculus with Python: Sequences and Series\n\nThis tutorial covers **sequences and series** in calculus, focusing on infinite sums, convergence tests, and power series. We’ll use Python and the [SymPy](https://www.sympy.org/) library to explore these concepts.\n\n---",
      "metadata": {}
    },
    {
      "id": "dacc8532-d360-4612-aa01-55fa02de3da1",
      "cell_type": "markdown",
      "source": "## 1. Prerequisites\n\nInstall SymPy:\n\n```bash\npip install sympy\n```\n\n---",
      "metadata": {}
    },
    {
      "id": "28c5a35b-9ae7-4601-ae61-aa12d1b0cdb7",
      "cell_type": "markdown",
      "source": "## 2. Sequences\n\nA **sequence** is an ordered list of numbers, often defined by a formula for its terms.\n\n### Example: The Sequence $ a_n = 1/n $",
      "metadata": {}
    },
    {
      "id": "178a6147-33a5-47aa-a3c8-ddaff832ab4a",
      "cell_type": "code",
      "source": "import sympy as sp\n\nn = sp.symbols('n')\na_n = 1/n\n# Get the first 5 terms\nterms = [a_n.subs(n, i) for i in range(1, 6)]\nprint(terms)",
      "metadata": {
        "trusted": true
      },
      "outputs": [
        {
          "name": "stdout",
          "output_type": "stream",
          "text": "[1, 1/2, 1/3, 1/4, 1/5]\n"
        }
      ],
      "execution_count": 1
    },
    {
      "id": "ca8a2598-1a7d-4174-a465-9bd755269d49",
      "cell_type": "markdown",
      "source": "## 3. Series and Infinite Sums\n\nA **series** is the sum of the terms of a sequence.  \nAn **infinite series** sums infinitely many terms, e.g., $ \\sum_{n=1}^{\\infty} a_n $.\n\n### Example: Geometric Series $ \\sum_{n=0}^{\\infty} ar^n $",
      "metadata": {}
    },
    {
      "id": "b30d9d74-02e9-4292-8103-f3b0d20fe2a9",
      "cell_type": "code",
      "source": "a, r = sp.symbols('a r')\nS = sp.summation(a*r**n, (n, 0, sp.oo))\nprint(S)",
      "metadata": {
        "trusted": true
      },
      "outputs": [
        {
          "name": "stdout",
          "output_type": "stream",
          "text": "a*Piecewise((1/(1 - r), Abs(r) < 1), (Sum(r**n, (n, 0, oo)), True))\n"
        }
      ],
      "execution_count": 2
    },
    {
      "id": "97e271ff-c9ce-492b-9d43-f0162be21ba2",
      "cell_type": "markdown",
      "source": "## 4. Convergence Tests\n\n### 4.1. The $ n $-th Term Test\n\nIf $ \\lim_{n \\to \\infty} a_n \\neq 0 $, the series diverges.",
      "metadata": {}
    },
    {
      "id": "bc2a4952-368d-4a09-9f9a-30f5bd9286f7",
      "cell_type": "code",
      "source": "limit = sp.limit(a_n, n, sp.oo)\nprint(limit)  # Output: 0",
      "metadata": {
        "trusted": true
      },
      "outputs": [
        {
          "name": "stdout",
          "output_type": "stream",
          "text": "0\n"
        }
      ],
      "execution_count": 3
    },
    {
      "id": "6f9169f7-5403-4752-977b-0455be92c581",
      "cell_type": "markdown",
      "source": "### 4.2. Ratio Test\n\nFor $ \\sum a_n $, compute $ L = \\lim_{n\\to\\infty} |a_{n+1}/a_n| $:\n\n- If $ L < 1 $, converges; if $ L > 1 $, diverges; if $ L = 1 $, inconclusive.\n\n#### Example: $ a_n = 1/2^n $",
      "metadata": {}
    },
    {
      "id": "c2f1e852-ba4a-4f7a-b4a3-2196e6f42548",
      "cell_type": "code",
      "source": "a_n = 1/2**n\nratio = sp.limit(abs(a_n.subs(n, n+1) / a_n), n, sp.oo)\nprint(ratio)  # Output: 1/2 (converges)",
      "metadata": {
        "trusted": true
      },
      "outputs": [
        {
          "name": "stdout",
          "output_type": "stream",
          "text": "1/2\n"
        }
      ],
      "execution_count": 4
    },
    {
      "id": "a97a09e5-3d91-4da5-abba-e36223579d09",
      "cell_type": "markdown",
      "source": "## 5. Power Series\n\nA **power series** is a series of the form:\n$$\n\\sum_{n=0}^{\\infty} c_n (x - a)^n\n$$\nwhere $ c_n $ are coefficients and $ a $ is the center.\n\n### Example: Maclaurin Series for $ e^x $ (centered at 0)",
      "metadata": {}
    },
    {
      "id": "c3aaf863-31af-46de-8f50-16f86ae5c69f",
      "cell_type": "code",
      "source": "x = sp.symbols('x')\nf = sp.exp(x)\nmaclaurin = f.series(x, 0, 6)  # Up to x^5 term\nprint(maclaurin)",
      "metadata": {
        "trusted": true
      },
      "outputs": [
        {
          "name": "stdout",
          "output_type": "stream",
          "text": "1 + x + x**2/2 + x**3/6 + x**4/24 + x**5/120 + O(x**6)\n"
        }
      ],
      "execution_count": 5
    },
    {
      "id": "5d8e18d8-0f25-4f00-b3ed-f2868ddb230d",
      "cell_type": "markdown",
      "source": "## 6. Practice Problems\n\n1. List the first six terms of the sequence $ a_n = (-1)^n / n $.\n2. Determine if the series $ \\sum_{n=1}^{\\infty} 1/n^2 $ converges.\n3. Find the radius of convergence for the power series $ \\sum_{n=0}^{\\infty} x^n $ using the ratio test.\n4. Expand $ \\sin(x) $ as a Maclaurin series up to $ x^5 $ using Python.\n\n---\n\n## 7. References\n\n- [SymPy: Summation](https://docs.sympy.org/latest/modules/concrete/summation.html)\n- [SymPy: Series Expansions](https://docs.sympy.org/latest/tutorial/series.html)\n- [Khan Academy: Sequences and Series](https://www.khanacademy.org/math/calculus-2/cs2-sequences-series)\n\n---\n\nEnjoy exploring sequences and series with Python!",
      "metadata": {}
    },
    {
      "id": "4f901be6-0635-4628-ae9d-ebf640b5d641",
      "cell_type": "markdown",
      "source": "# [Calculus Context](./README.md)",
      "metadata": {}
    }
  ]
}