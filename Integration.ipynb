{
  "metadata": {
    "kernelspec": {
      "name": "python",
      "display_name": "Python (Pyodide)",
      "language": "python"
    },
    "language_info": {
      "codemirror_mode": {
        "name": "python",
        "version": 3
      },
      "file_extension": ".py",
      "mimetype": "text/x-python",
      "name": "python",
      "nbconvert_exporter": "python",
      "pygments_lexer": "ipython3",
      "version": "3.8"
    }
  },
  "nbformat_minor": 5,
  "nbformat": 4,
  "cells": [
    {
      "id": "77ae43cf-d82e-4cb1-8d45-a7c35fbcfc81",
      "cell_type": "markdown",
      "source": "# Calculus Integration Tutorial Using Python\n\nThis tutorial introduces you to **integration** in calculus, focusing on antiderivatives, definite and indefinite integrals, and the Fundamental Theorem of Calculus. We'll use Python and the SymPy library for symbolic mathematics.\n\n---",
      "metadata": {}
    },
    {
      "id": "550a13ed-0bc5-455c-8624-979033c7b97f",
      "cell_type": "markdown",
      "source": "## 1. Prerequisites\n\nMake sure you have Python installed. You'll need the `sympy` library:\n\n```bash\npip install sympy\n```",
      "metadata": {}
    },
    {
      "id": "3806e827-b04e-4199-9083-503594d38345",
      "cell_type": "markdown",
      "source": "---\n\n## 2. Antiderivatives (Indefinite Integrals)\n\nAn **antiderivative** of a function $ f(x) $ is a function $ F(x) $ such that $ F'(x) = f(x) $. The process of finding antiderivatives is called **indefinite integration**.\n\n### Example: Find the antiderivative of $ f(x) = 2x $",
      "metadata": {}
    },
    {
      "id": "036f1819-0ca7-4e46-a9c2-a41149424fa5",
      "cell_type": "code",
      "source": "import sympy as sp\n\nx = sp.symbols('x')\nf = 2 * x\nantiderivative = sp.integrate(f, x)\nprint(antiderivative)",
      "metadata": {
        "trusted": true
      },
      "outputs": [
        {
          "name": "stdout",
          "output_type": "stream",
          "text": "x**2\n"
        }
      ],
      "execution_count": 1
    },
    {
      "id": "fc19bdb8-4cdf-4af9-9702-0c06d1932443",
      "cell_type": "markdown",
      "source": "Don't forget the arbitrary constant $ C $! The general form is:\n$$\n\\int 2x \\, dx = x^2 + C\n$$\n\n---",
      "metadata": {}
    },
    {
      "id": "97523e08-d389-4712-9688-8cf3974cdf81",
      "cell_type": "markdown",
      "source": "## 3. Definite Integrals\n\nA **definite integral** computes the area under a curve between two points $ a $ and $ b $:\n\n$$\n\\int_{a}^{b} f(x)\\, dx\n$$\n\n### Example: Compute $ \\int_{0}^{2} 2x \\, dx $",
      "metadata": {}
    },
    {
      "id": "bb584262-698f-4ab2-85ca-9c311d971bfd",
      "cell_type": "code",
      "source": "area = sp.integrate(f, (x, 0, 2))\nprint(area)",
      "metadata": {
        "trusted": true
      },
      "outputs": [
        {
          "name": "stdout",
          "output_type": "stream",
          "text": "4\n"
        }
      ],
      "execution_count": 2
    },
    {
      "id": "e53099f9-894d-4bbf-b2b4-903cd83f6545",
      "cell_type": "markdown",
      "source": "## 4. The Fundamental Theorem of Calculus\n\nThe **Fundamental Theorem of Calculus** links differentiation and integration:\n\n$$\n\\int_{a}^{b} f(x)\\, dx = F(b) - F(a)\n$$\nwhere $ F(x) $ is an antiderivative of $ f(x) $.\n\nLet's verify this with our previous example:",
      "metadata": {}
    },
    {
      "id": "e4d9752c-cbf3-42d9-887f-683a3fb2fe03",
      "cell_type": "code",
      "source": "F = antiderivative  # x**2\nF_b = F.subs(x, 2)\nF_a = F.subs(x, 0)\nprint(F_b - F_a)",
      "metadata": {
        "trusted": true
      },
      "outputs": [
        {
          "name": "stdout",
          "output_type": "stream",
          "text": "4\n"
        }
      ],
      "execution_count": 3
    },
    {
      "id": "183db2e3-60b0-408a-92e2-00683efa59c5",
      "cell_type": "markdown",
      "source": "## 5. More Examples\n\n### Example 1: Indefinite Integral of $ \\sin(x) $",
      "metadata": {}
    },
    {
      "id": "87401eab-22e5-45ed-8c6e-c99c9b83ba61",
      "cell_type": "code",
      "source": "f = sp.sin(x)\nantiderivative = sp.integrate(f, x)\nprint(antiderivative)",
      "metadata": {
        "trusted": true
      },
      "outputs": [
        {
          "name": "stdout",
          "output_type": "stream",
          "text": "-cos(x)\n"
        }
      ],
      "execution_count": 4
    },
    {
      "id": "f690f4e5-90de-4000-9a4e-df5aeea76c49",
      "cell_type": "markdown",
      "source": "### Example 2: Definite Integral of $ e^{-x^2} $ from $ 0 $ to $ 1 $",
      "metadata": {}
    },
    {
      "id": "7b441609-480a-4cc6-9517-6197cac0c172",
      "cell_type": "code",
      "source": "f = sp.exp(-x**2)\narea = sp.integrate(f, (x, 0, 1))\nprint(area.evalf())  # Approximate value",
      "metadata": {
        "trusted": true
      },
      "outputs": [
        {
          "name": "stdout",
          "output_type": "stream",
          "text": "0.746824132812427\n"
        }
      ],
      "execution_count": 5
    },
    {
      "id": "eadfee5e-2708-4cc1-9c23-18310e837023",
      "cell_type": "markdown",
      "source": "\n## 6. Practice Problems\n\n1. Find the indefinite integral of $ x^3 $.\n2. Compute $ \\int_{1}^{4} 3x^2 \\, dx $.\n3. Use Python to verify the Fundamental Theorem of Calculus for $ f(x) = \\cos(x) $ over $ [0, \\pi/2] $.\n\n---\n\n## 7. References\n\n- [SymPy Documentation](https://docs.sympy.org/latest/tutorial/calculus.html)\n- [Khan Academy: Integrals](https://www.khanacademy.org/math/calculus-1/cs1-integration)\n\n---\n\nHappy integrating with Python!",
      "metadata": {}
    },
    {
      "id": "b78eec39-21f5-4780-ab99-da0462dab603",
      "cell_type": "markdown",
      "source": "# [Calculus Context](./README.md)",
      "metadata": {}
    }
  ]
}