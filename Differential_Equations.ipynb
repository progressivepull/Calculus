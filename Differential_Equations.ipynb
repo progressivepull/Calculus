{
  "metadata": {
    "kernelspec": {
      "name": "python",
      "display_name": "Python (Pyodide)",
      "language": "python"
    },
    "language_info": {
      "codemirror_mode": {
        "name": "python",
        "version": 3
      },
      "file_extension": ".py",
      "mimetype": "text/x-python",
      "name": "python",
      "nbconvert_exporter": "python",
      "pygments_lexer": "ipython3",
      "version": "3.8"
    }
  },
  "nbformat_minor": 5,
  "nbformat": 4,
  "cells": [
    {
      "id": "94bb0b5d-8ee3-4850-85d6-7dc4f460054a",
      "cell_type": "markdown",
      "source": "# Calculus with Python: Differential Equations\n\nThis tutorial introduces **differential equations** in calculus, focusing on basic equations that describe natural phenomena and how to solve them using Python ([SymPy](https://www.sympy.org/)).\n\n---",
      "metadata": {}
    },
    {
      "id": "d6561fdb-415d-4eff-ae63-5e19ec2b99ca",
      "cell_type": "markdown",
      "source": "## 1. Prerequisites\n\nInstall SymPy if you haven't already:\n\n```bash\npip install sympy\n```",
      "metadata": {}
    },
    {
      "id": "bdb76b96-ddce-49e9-8673-34aac7708868",
      "cell_type": "markdown",
      "source": "---\n\n## 2. What are Differential Equations?\n\nA **differential equation** is an equation involving derivatives of a function. They are widely used to describe natural phenomena such as population growth, heat flow, and motion.\n\n- **Ordinary Differential Equation (ODE):** Involves derivatives with respect to one variable (usually time).\n- **Partial Differential Equation (PDE):** Involves derivatives with respect to multiple variables (not covered in this intro).\n\n---",
      "metadata": {}
    },
    {
      "id": "2ce7c228-9e1a-44c4-9bd2-20cf704aa28a",
      "cell_type": "markdown",
      "source": "## 3. Solving First-Order ODEs in Python\n\n### Example: Exponential Growth/Decay\n\nMany natural processes follow the equation:\n$$\n\\frac{dy}{dt} = k y\n$$\nwhere $ k $ is a constant.\n\n#### Solution using SymPy",
      "metadata": {}
    },
    {
      "id": "45862326-3e8b-4c4e-baa1-85bbb9a932a6",
      "cell_type": "code",
      "source": "import sympy as sp\n\nt = sp.symbols('t')\ny = sp.Function('y')\n\n# Differential equation: dy/dt = k*y\nk = sp.symbols('k')\node = sp.Eq(y(t).diff(t), k * y(t))\n\n# Solve the ODE\nsolution = sp.dsolve(ode, y(t))\nprint(solution)",
      "metadata": {
        "trusted": true
      },
      "outputs": [
        {
          "name": "stdout",
          "output_type": "stream",
          "text": "Eq(y(t), C1*exp(k*t))\n"
        }
      ],
      "execution_count": 1
    },
    {
      "id": "77d92c0b-ff15-4deb-aad4-244b9ee1d213",
      "cell_type": "markdown",
      "source": "## 4. Solving ODEs with Initial Conditions\n\n### Example: Radioactive Decay\n\n$$\n\\frac{dN}{dt} = -\\lambda N, \\quad N(0) = N_0\n$$",
      "metadata": {}
    },
    {
      "id": "3b8ce643-ebba-4ed2-bdd3-0730552eef25",
      "cell_type": "code",
      "source": "N = sp.Function('N')\nlam, N0 = sp.symbols('lam N0')\n\node = sp.Eq(N(t).diff(t), -lam*N(t))\nics = {N(0): N0}\nsolution = sp.dsolve(ode, N(t), ics=ics)\nprint(solution)",
      "metadata": {
        "trusted": true
      },
      "outputs": [
        {
          "name": "stdout",
          "output_type": "stream",
          "text": "Eq(N(t), N0*exp(-lam*t))\n"
        }
      ],
      "execution_count": 2
    },
    {
      "id": "e64fcf74-4c12-40c4-80be-9c05f4c1072e",
      "cell_type": "markdown",
      "source": "## 5. Example: Newton’s Law of Cooling\n\n$$\n\\frac{dT}{dt} = -k (T - T_{env})\n$$\nWhere $ T_{env} $ is ambient temperature.",
      "metadata": {}
    },
    {
      "id": "1a8d857a-4d7e-49fb-8f2d-08dda15f7b9a",
      "cell_type": "code",
      "source": "T = sp.Function('T')\nTenv, k = sp.symbols('Tenv k')\n\node = sp.Eq(T(t).diff(t), -k*(T(t) - Tenv))\nsolution = sp.dsolve(ode, T(t))\nprint(solution)",
      "metadata": {
        "trusted": true
      },
      "outputs": [
        {
          "name": "stdout",
          "output_type": "stream",
          "text": "Eq(T(t), C1*exp(-k*t) + Tenv)\n"
        }
      ],
      "execution_count": 3
    },
    {
      "id": "911f0558-c0ec-408b-884f-c191164297f7",
      "cell_type": "markdown",
      "source": "## 6. Practice Problems\n\n1. Solve $ \\frac{dy}{dt} = 3y $ with $ y(0) = 5 $.\n2. Solve $ \\frac{dx}{dt} = -2x $ with $ x(0) = 10 $.\n3. Model a falling object with air resistance: $ \\frac{dv}{dt} = g - kv $, where $ g $ and $ k $ are constants.\n\n---\n\n## 7. References\n\n- [SymPy: Solving Differential Equations](https://docs.sympy.org/latest/modules/solvers/ode.html)\n- [Khan Academy: Differential Equations](https://www.khanacademy.org/math/differential-equations)\n\n---\n\nKeep exploring differential equations with Python!",
      "metadata": {}
    },
    {
      "id": "83032769-2dfd-4883-b19b-1d6ea875c93f",
      "cell_type": "markdown",
      "source": "# [Calculus Context](./README.md)",
      "metadata": {}
    }
  ]
}