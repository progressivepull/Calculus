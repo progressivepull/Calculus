{
  "metadata": {
    "kernelspec": {
      "name": "python",
      "display_name": "Python (Pyodide)",
      "language": "python"
    },
    "language_info": {
      "codemirror_mode": {
        "name": "python",
        "version": 3
      },
      "file_extension": ".py",
      "mimetype": "text/x-python",
      "name": "python",
      "nbconvert_exporter": "python",
      "pygments_lexer": "ipython3",
      "version": "3.8"
    }
  },
  "nbformat_minor": 5,
  "nbformat": 4,
  "cells": [
    {
      "id": "f0c3b635-0ab6-49c0-a67d-a95b96cd0e2e",
      "cell_type": "markdown",
      "source": "# Calculus with Python: Applications of Integrals\n\nThis tutorial explores **applications of integrals** in calculus using Python and the [SymPy](https://www.sympy.org/) library. We’ll cover:\n\n- Calculating the area under curves\n- Finding volumes of solids of revolution\n- Physical applications (like work and center of mass)\n",
      "metadata": {}
    },
    {
      "id": "973c2423-4a3c-4375-bad4-cd86f82e5d96",
      "cell_type": "markdown",
      "source": "---\n\n## 1. Prerequisites\n\nInstall SymPy if you don’t have it:\n\n```bash\npip install sympy\n```\n\n---",
      "metadata": {}
    },
    {
      "id": "4db6fc1e-2b54-46e9-a0af-05e4d54ce32e",
      "cell_type": "markdown",
      "source": "## 2. Area Under a Curve\n\nThe area under the curve $ y = f(x) $ from $ x = a $ to $ x = b $ is given by:\n\n$$\nA = \\int_{a}^{b} f(x)\\, dx\n$$\n\n### Example: Area under $ y = x^2 $ from $ x = 0 $ to $ x = 2 $",
      "metadata": {}
    },
    {
      "id": "c95af59f-7452-47ed-a927-d431f9ca7cd7",
      "cell_type": "code",
      "source": "import sympy as sp\n\nx = sp.symbols('x')\nf = x**2\narea = sp.integrate(f, (x, 0, 2))\nprint(area)",
      "metadata": {
        "trusted": true
      },
      "outputs": [
        {
          "name": "stdout",
          "output_type": "stream",
          "text": "8/3\n"
        }
      ],
      "execution_count": 1
    },
    {
      "id": "dc39373e-f2ee-4c5d-ba98-e08d280f6f97",
      "cell_type": "markdown",
      "source": "## 3. Volume of Solids of Revolution\n\nTo find the volume when a region is revolved about an axis, use:\n\n$$\nV = \\pi \\int_a^b [f(x)]^2\\, dx\n$$\n\n### Example: Volume of $ y = x $ rotated about the x-axis from $ x = 0 $ to $ x = 1 $",
      "metadata": {}
    },
    {
      "id": "b1b04ee0-01d6-4558-90cf-9d1b96472ad9",
      "cell_type": "code",
      "source": "f = x\nvolume = sp.pi * sp.integrate(f**2, (x, 0, 1))\nprint(volume)",
      "metadata": {
        "trusted": true
      },
      "outputs": [
        {
          "name": "stdout",
          "output_type": "stream",
          "text": "pi/3\n"
        }
      ],
      "execution_count": 2
    },
    {
      "id": "d69d4b0c-9306-427f-93f8-61b88bd685ec",
      "cell_type": "markdown",
      "source": "## 4. Physical Applications\n\n### 4.1. Work Done by a Variable Force\n\nIf a force $ F(x) $ moves an object from $ x = a $ to $ x = b $:\n\n$$\nW = \\int_a^b F(x)\\, dx\n$$\n\n#### Example: $ F(x) = 3x^2 $ from $ x = 1 $ to $ x = 4 $",
      "metadata": {}
    },
    {
      "id": "33323dd9-5819-4c33-b796-8745c6ee4e99",
      "cell_type": "code",
      "source": "F = 3 * x**2\nwork = sp.integrate(F, (x, 1, 4))\nprint(work)",
      "metadata": {
        "trusted": true
      },
      "outputs": [
        {
          "name": "stdout",
          "output_type": "stream",
          "text": "63\n"
        }
      ],
      "execution_count": 3
    },
    {
      "id": "fe9ffe7c-57ed-4a64-af59-6b2e3ec659a9",
      "cell_type": "markdown",
      "source": "### 4.2. Center of Mass\n\nFor a rod of length $ L $ with linear density $ \\lambda(x) $:\n\n$$\n\\text{Center of mass} = \\frac{1}{M} \\int_0^L x \\lambda(x) dx\n$$\nwhere $ M = \\int_0^L \\lambda(x) dx $\n\n#### Example: $ \\lambda(x) = 2x $, $ L = 3 $",
      "metadata": {}
    },
    {
      "id": "e66411d2-26ca-41a0-be10-c582768e0b0a",
      "cell_type": "code",
      "source": "L = 3\nlambda_x = 2 * x\nM = sp.integrate(lambda_x, (x, 0, L))\ncenter_of_mass = (1/M) * sp.integrate(x * lambda_x, (x, 0, L))\nprint(center_of_mass)",
      "metadata": {
        "trusted": true
      },
      "outputs": [
        {
          "name": "stdout",
          "output_type": "stream",
          "text": "2\n"
        }
      ],
      "execution_count": 4
    },
    {
      "id": "ba9d92ba-d61c-4a64-88cf-88cd3109d137",
      "cell_type": "markdown",
      "source": "\n\n## 5. Practice Problems\n\n1. Find the area between $ y = \\sin(x) $ and the x-axis from $ x = 0 $ to $ x = \\pi $.\n2. Compute the volume of the solid formed by rotating $ y = 1 - x^2 $ about the x-axis from $ x = -1 $ to $ x = 1 $.\n3. If a force $ F(x) = 5x $ acts on a body as it moves from $ x = 0 $ to $ x = 2 $, what is the work done?\n\n---\n\n## 6. References\n\n- [SymPy Calculus Tutorial](https://docs.sympy.org/latest/tutorial/calculus.html)\n- [Khan Academy: Applications of Integrals](https://www.khanacademy.org/math/ap-calculus-ab/ab-applications-new)\n\n---\n\nHappy calculating!",
      "metadata": {}
    },
    {
      "id": "a170c27c-61bf-45dc-8816-06c6ffdd87d1",
      "cell_type": "markdown",
      "source": "# [Calculus Context](./README.md)",
      "metadata": {}
    }
  ]
}